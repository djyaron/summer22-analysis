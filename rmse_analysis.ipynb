{
 "cells": [
  {
   "cell_type": "code",
   "execution_count": 1,
   "metadata": {},
   "outputs": [],
   "source": [
    "from starter_code import *"
   ]
  },
  {
   "cell_type": "code",
   "execution_count": null,
   "metadata": {},
   "outputs": [],
   "source": [
    "from starter_code import load_ani1_data, calc_resid"
   ]
  },
  {
   "cell_type": "code",
   "execution_count": 2,
   "metadata": {},
   "outputs": [
    {
     "name": "stdout",
     "output_type": "stream",
     "text": [
      "data file path is ./ANI-1ccx_clean_fullentry.h5\n"
     ]
    },
    {
     "name": "stderr",
     "output_type": "stream",
     "text": [
      "100%|██████████| 91/91 [00:07<00:00, 12.06it/s]\n"
     ]
    }
   ],
   "source": [
    "molecules = load_ani1_data()\n",
    "# Calculate the residual vector for each method-method combination\n",
    "resid = calc_resid(molecules, show_progress=True)"
   ]
  },
  {
   "cell_type": "code",
   "execution_count": 3,
   "metadata": {},
   "outputs": [
    {
     "ename": "NameError",
     "evalue": "name 'filtered_data' is not defined",
     "output_type": "error",
     "traceback": [
      "\u001b[1;31m---------------------------------------------------------------------------\u001b[0m",
      "\u001b[1;31mNameError\u001b[0m                                 Traceback (most recent call last)",
      "\u001b[1;32mc:\\Users\\Sage\\Documents\\CMU\\99519\\Code\\summer22-analysis\\rmse_analysis.ipynb Cell 3\u001b[0m in \u001b[0;36m<cell line: 3>\u001b[1;34m()\u001b[0m\n\u001b[0;32m      <a href='vscode-notebook-cell:/c%3A/Users/Sage/Documents/CMU/99519/Code/summer22-analysis/rmse_analysis.ipynb#ch0000001?line=0'>1</a>\u001b[0m \u001b[39m# Filtered Data Heatmap\u001b[39;00m\n\u001b[0;32m      <a href='vscode-notebook-cell:/c%3A/Users/Sage/Documents/CMU/99519/Code/summer22-analysis/rmse_analysis.ipynb#ch0000001?line=1'>2</a>\u001b[0m fig2, ax2 \u001b[39m=\u001b[39m plt\u001b[39m.\u001b[39msubplots(figsize\u001b[39m=\u001b[39m(\u001b[39m16\u001b[39m, \u001b[39m15\u001b[39m))\n\u001b[0;32m      <a href='vscode-notebook-cell:/c%3A/Users/Sage/Documents/CMU/99519/Code/summer22-analysis/rmse_analysis.ipynb#ch0000001?line=2'>3</a>\u001b[0m create_heatmap(\n\u001b[0;32m      <a href='vscode-notebook-cell:/c%3A/Users/Sage/Documents/CMU/99519/Code/summer22-analysis/rmse_analysis.ipynb#ch0000001?line=3'>4</a>\u001b[0m     ani1_config[\u001b[39m\"\u001b[39m\u001b[39mtarget\u001b[39m\u001b[39m\"\u001b[39m],\n\u001b[1;32m----> <a href='vscode-notebook-cell:/c%3A/Users/Sage/Documents/CMU/99519/Code/summer22-analysis/rmse_analysis.ipynb#ch0000001?line=4'>5</a>\u001b[0m     data_matrix\u001b[39m=\u001b[39mfiltered_data,\n\u001b[0;32m      <a href='vscode-notebook-cell:/c%3A/Users/Sage/Documents/CMU/99519/Code/summer22-analysis/rmse_analysis.ipynb#ch0000001?line=5'>6</a>\u001b[0m     show_progress\u001b[39m=\u001b[39m\u001b[39mTrue\u001b[39;00m\n\u001b[0;32m      <a href='vscode-notebook-cell:/c%3A/Users/Sage/Documents/CMU/99519/Code/summer22-analysis/rmse_analysis.ipynb#ch0000001?line=6'>7</a>\u001b[0m )\n\u001b[0;32m      <a href='vscode-notebook-cell:/c%3A/Users/Sage/Documents/CMU/99519/Code/summer22-analysis/rmse_analysis.ipynb#ch0000001?line=8'>9</a>\u001b[0m plt\u001b[39m.\u001b[39mshow()\n\u001b[0;32m     <a href='vscode-notebook-cell:/c%3A/Users/Sage/Documents/CMU/99519/Code/summer22-analysis/rmse_analysis.ipynb#ch0000001?line=11'>12</a>\u001b[0m rmse_df \u001b[39m=\u001b[39m compute_rmse_by_num_heavy_atoms(molecules, resid, ani1_config[\u001b[39m\"\u001b[39m\u001b[39mheavy_atoms\u001b[39m\u001b[39m\"\u001b[39m])\n",
      "\u001b[1;31mNameError\u001b[0m: name 'filtered_data' is not defined"
     ]
    },
    {
     "data": {
      "image/png": "[encoded data removed]",
      "text/plain": [
       "<Figure size 1152x1080 with 1 Axes>"
      ]
     },
     "metadata": {
      "needs_background": "light"
     },
     "output_type": "display_data"
    }
   ],
   "source": [
    "\n",
    "# Filtered Data Heatmap\n",
    "fig2, ax2 = plt.subplots(figsize=(16, 15))\n",
    "create_heatmap(\n",
    "    ani1_config[\"target\"],\n",
    "    data_matrix=filtered_data,\n",
    "    show_progress=True\n",
    ")\n",
    "\n",
    "plt.show()\n",
    "\n",
    "\n",
    "rmse_df = compute_rmse_by_num_heavy_atoms(molecules, resid, ani1_config[\"heavy_atoms\"])\n",
    "\n",
    "# Will produce 91 plots, one for each method-method combination\n",
    "plot_rmse_by_num_heavy_atoms(rmse_df)\n",
    "\n",
    "# Will produce a plot for each dftb-method combination\n",
    "plot_rmse_by_num_heavy_atoms(\n",
    "    rmse_df[isin_tuple_series(\"dt\", rmse_df[\"Method Pair\"])],\n",
    "    method_id_to_name=ani1_config[\"target\"],\n",
    ")\n"
   ]
  },
  {
   "cell_type": "code",
   "execution_count": null,
   "metadata": {},
   "outputs": [],
   "source": []
  }
 ],
 "metadata": {
  "kernelspec": {
   "display_name": "Python 3.9.7 ('base')",
   "language": "python",
   "name": "python3"
  },
  "language_info": {
   "codemirror_mode": {
    "name": "ipython",
    "version": 3
   },
   "file_extension": ".py",
   "mimetype": "text/x-python",
   "name": "python",
   "nbconvert_exporter": "python",
   "pygments_lexer": "ipython3",
   "version": "3.9.7"
  },
  "orig_nbformat": 4,
  "vscode": {
   "interpreter": {
    "hash": "7bb7a1d4c7405aeb36386dd347c620ec385763ff60e80173c90a5a2cc496c7eb"
   }
  }
 },
 "nbformat": 4,
 "nbformat_minor": 2
}
