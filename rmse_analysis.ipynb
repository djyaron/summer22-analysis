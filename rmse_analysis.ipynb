{
 "cells": [
  {
   "cell_type": "code",
   "execution_count": null,
   "metadata": {},
   "outputs": [],
   "source": [
    "import matplotlib.pyplot as plt\n",
    "\n",
    "from starter_code import (\n",
    "    ani1_config,\n",
    "    load_ani1_data,\n",
    "    calc_resid,\n",
    "    compute_rmse_by_num_heavy_atoms,\n",
    "    plot_rmse_by_num_heavy_atoms,\n",
    "    compute_rmse_by_num_bonds,\n",
    "    plot_rmse_by_num_bonds,\n",
    "    compute_rmse_by_num_atoms,\n",
    "    plot_rmse_by_num_atoms,\n",
    "    isin_tuple_series\n",
    ")\n",
    "import pandas as pd"
   ]
  },
  {
   "cell_type": "code",
   "execution_count": null,
   "metadata": {},
   "outputs": [],
   "source": [
    "molecules = load_ani1_data()\n",
    "\n",
    "# Calculate the residual vector for each method-method combination\n",
    "resid = calc_resid(molecules)\n",
    "\n",
    "rmse_df = compute_rmse_by_num_heavy_atoms(molecules, resid, ani1_config[\"heavy_atoms\"])"
   ]
  },
  {
   "cell_type": "code",
   "execution_count": null,
   "metadata": {},
   "outputs": [],
   "source": [
    "fig, ax = plt.subplots(figsize=(11, 8.5))\n",
    "\n",
    "ax.set_prop_cycle(\n",
    "    color=[\"b\", \"r\", \"g\", \"b\", \"r\", \"g\"],\n",
    "    linestyle=[\"-\", \"-\", \"-\", \"-.\", \"-.\", \"-.\"],\n",
    "    marker=[\"o\", \"o\", \"o\", \"o\", \"o\", \"o\"],\n",
    ")\n",
    "\n",
    "rmse_df_plot = rmse_df[rmse_df[\"Method Pair\"] == (\"dt\", \"dt\")][\n",
    "    [\n",
    "        \"RMSE\",\n",
    "        \"RMSE / sqrt(nh)\",\n",
    "        \"RMSE(E/nh)\",\n",
    "        \"MAE\",\n",
    "        \"MAE / sqrt(nh)\",\n",
    "        \"MAE(E/nh)\",\n",
    "    ]\n",
    "]\n",
    "\n",
    "plt.plot(list(range(1, 9)), rmse_df_plot.to_numpy())\n",
    "\n",
    "plt.legend(\n",
    "    [\n",
    "        \"RMSE(E)\",\n",
    "        \"RMSE(E) / sqrt(nh)\",\n",
    "        \"RMSE(E/nh)\",\n",
    "        \"MAE(E)\",\n",
    "        \"MAE(E) / sqrt(nh)\",\n",
    "        \"MAE(E/nh)\",\n",
    "    ],\n",
    "    loc=\"upper left\",\n",
    "    fancybox=True,\n",
    ")"
   ]
  },
  {
   "cell_type": "code",
   "execution_count": null,
   "metadata": {},
   "outputs": [],
   "source": [
    "rmse_df_plot"
   ]
  },
  {
   "cell_type": "code",
   "execution_count": null,
   "metadata": {},
   "outputs": [],
   "source": [
    "# Will produce 91 plots, one for each method-method combination\n",
    "# plot_rmse_by_num_heavy_atoms(rmse_df)\n",
    "\n",
    "# Will produce a plot for each dftb-method combination\n",
    "# plot_rmse_by_num_heavy_atoms(\n",
    "#     rmse_df[isin_tuple_series(\"dt\", rmse_df[\"Method Pair\"])],\n",
    "#     method_id_to_name=ani1_config[\"target\"],\n",
    "# )"
   ]
  },
  {
   "cell_type": "code",
   "execution_count": null,
   "metadata": {},
   "outputs": [],
   "source": [
    "rmse_df_nbonds = compute_rmse_by_num_bonds(molecules, resid)"
   ]
  },
  {
   "cell_type": "code",
   "execution_count": null,
   "metadata": {},
   "outputs": [],
   "source": [
    "# plot_rmse_by_num_bonds(\n",
    "#     rmse_df_nbonds[isin_tuple_series(\"dt\", rmse_df_nbonds[\"Method Pair\"])],\n",
    "#     method_id_to_name=ani1_config[\"target\"],\n",
    "# )"
   ]
  },
  {
   "cell_type": "markdown",
   "metadata": {},
   "source": [
    "# RMSE vs. number of heavy atoms plots"
   ]
  },
  {
   "cell_type": "code",
   "execution_count": null,
   "metadata": {},
   "outputs": [],
   "source": [
    "for (method1, method2), group in rmse_df.groupby(\"Method Pair\"):\n",
    "    method1_full_name = ani1_config[\"target\"][method1]\n",
    "    method2_full_name = ani1_config[\"target\"][method2]\n",
    "\n",
    "    # fig, ax = plt.subplots(nrows=1, ncols=2, sharey=True, figsize=(10, 5))\n",
    "    # fig.suptitle(f\"{method1_full_name} vs. {method2_full_name}\")\n",
    "\n",
    "    title = f\"RMSE vs. # of Heavy Atoms ({method1_full_name} & {method2_full_name})\"\n",
    "    group.set_index(\"Heavy Atoms\")[[\"RMSE\", \"RMSE / sqrt(nh)\"]].plot(title=title)\n",
    "\n",
    "    # group = rmse_df_nbonds_groupby.get_group((method1, method2))\n",
    "    # group = group[group[\"Bonds\"] != 0]\n",
    "    # title = f\"RMSE vs. # of Bonds (Approximate)\"\n",
    "    # group.set_index(\"Bonds\").sort_index()[[\"RMSE\", \"RMSE / sqrt(nbonds)\"]].plot(\n",
    "    #     title=title, ax=ax[1]\n",
    "    # )\n",
    "\n",
    "    #plt.show()\n",
    "    plt.savefig(f\"../without_mae/error_vs_atoms/{method1}_{method2}.png\", dpi=300)"
   ]
  },
  {
   "cell_type": "markdown",
   "metadata": {},
   "source": [
    "# RMSE vs. number of bonds plots"
   ]
  },
  {
   "cell_type": "code",
   "execution_count": null,
   "metadata": {},
   "outputs": [],
   "source": [
    "rmse_df_nbonds_groupby = rmse_df_nbonds.groupby(\"Method Pair\")\n",
    "for (method1, method2), group in rmse_df.groupby(\"Method Pair\"):\n",
    "    method1_full_name = ani1_config[\"target\"][method1]\n",
    "    method2_full_name = ani1_config[\"target\"][method2]\n",
    "\n",
    "    # fig, ax = plt.subplots(nrows=1, ncols=2, sharey=True, figsize=(10, 5))\n",
    "    # fig.suptitle(f\"{method1_full_name} vs. {method2_full_name}\")\n",
    "    # title = f\"RMSE vs. # of Heavy Atoms {method1_full_name} & {method2_full_name}\"\n",
    "    # group.set_index(\"Heavy Atoms\")[[\"RMSE\", \"RMSE / sqrt(nh)\"]].plot(title=title)\n",
    "\n",
    "    group = rmse_df_nbonds_groupby.get_group((method1, method2))\n",
    "    group = group[group[\"Bonds\"] != 0]\n",
    "    title = f\"RMSE vs. # of Bonds (Approximate) ({method1_full_name} & {method2_full_name})\"\n",
    "    group.set_index(\"Bonds\").sort_index()[[\"RMSE\", \"RMSE / sqrt(nbonds)\"]].plot(\n",
    "        title=title\n",
    "    )\n",
    "\n",
    "    # plt.show()\n",
    "    plt.savefig(f\"../plots/error_vs_bonds/{method1}_{method2}.png\", dpi=300)"
   ]
  },
  {
   "cell_type": "markdown",
   "metadata": {},
   "source": [
    "# Side-by-side RMSE vs. atom count and bond count plots"
   ]
  },
  {
   "cell_type": "code",
   "execution_count": null,
   "metadata": {},
   "outputs": [],
   "source": [
    "rmse_df_nbonds_groupby = rmse_df_nbonds.groupby(\"Method Pair\")\n",
    "for (method1, method2), group in rmse_df.groupby(\"Method Pair\"):\n",
    "    method1_full_name = ani1_config[\"target\"][method1]\n",
    "    method2_full_name = ani1_config[\"target\"][method2]\n",
    "\n",
    "    fig, ax = plt.subplots(nrows=1, ncols=2, sharey=True, figsize=(10, 5))\n",
    "    fig.suptitle(f\"{method1_full_name} vs. {method2_full_name}\")\n",
    "\n",
    "    title = f\"RMSE vs. # of Heavy Atoms\"\n",
    "    group.set_index(\"Heavy Atoms\")[[\"RMSE\", \"RMSE / sqrt(nh)\"]].plot(title=title, ax=ax[0])\n",
    "\n",
    "    group = rmse_df_nbonds_groupby.get_group((method1, method2))\n",
    "    group = group[group[\"Bonds\"] != 0]\n",
    "    title = f\"RMSE vs. # of Bonds (Approximate)\"\n",
    "    group.set_index(\"Bonds\").sort_index()[[\"RMSE\", \"RMSE / sqrt(nbonds)\"]].plot(\n",
    "        title=title, ax=ax[1]\n",
    "    )\n",
    "\n",
    "    # plt.show()\n",
    "    plt.savefig(f\"../plots/side_by_side/{method1}_{method2}.png\", dpi=300)"
   ]
  },
  {
   "cell_type": "markdown",
   "metadata": {},
   "source": [
    "# Side-by-side RMSE vs. Heavy Atom and Atom"
   ]
  },
  {
   "cell_type": "code",
   "execution_count": null,
   "metadata": {},
   "outputs": [],
   "source": [
    "import os\n",
    "\n",
    "\n",
    "os.makedirs(f\"../without_mae/side_by_side-atoms_heavyatoms/\", exist_ok=True)"
   ]
  },
  {
   "cell_type": "code",
   "execution_count": null,
   "metadata": {},
   "outputs": [],
   "source": [
    "rmse_natoms = compute_rmse_by_num_atoms(molecules, resid)"
   ]
  },
  {
   "cell_type": "code",
   "execution_count": null,
   "metadata": {},
   "outputs": [],
   "source": [
    "import numpy as np\n",
    "import matplotlib.pyplot as plt\n",
    "\n",
    "def test_rmse(n, mean, var):\n",
    "    stdev = np.sqrt(var)\n",
    "    rng = np.random.default_rng(42)\n",
    "    x_1 = np.linspace(0, 10, n)\n",
    "    x_2 = x_1 + rng.normal(loc=mean, scale=stdev, size=n)\n",
    "\n",
    "    error = x_1 - x_2\n",
    "\n",
    "    rmse_1 = np.mean(error**2)**0.5 / var**0.5\n",
    "    rmse_2 = np.mean((error/var)**2)**0.5\n",
    "\n",
    "    mae_1 = np.mean(np.abs(error)) / var**0.5\n",
    "    mae_2 = np.mean(np.abs(error) / var**0.5)\n",
    "\n",
    "    print(rmse_1, rmse_2)\n",
    "    print(mae_1, mae_2)\n",
    "\n",
    "test_rmse(100000, 0, 3)"
   ]
  },
  {
   "cell_type": "markdown",
   "metadata": {},
   "source": [
    "### MAE(E/n)"
   ]
  },
  {
   "cell_type": "code",
   "execution_count": null,
   "metadata": {},
   "outputs": [],
   "source": [
    "rmse_df_natoms_groupby = rmse_natoms.groupby(\"Method Pair\")\n",
    "for (method1, method2), group in rmse_df.groupby(\"Method Pair\"):\n",
    "    method1_full_name = ani1_config[\"target\"][method1]\n",
    "    method2_full_name = ani1_config[\"target\"][method2]\n",
    "\n",
    "    fig, ax = plt.subplots(nrows=1, ncols=2, sharey=True, figsize=(10, 5))\n",
    "    fig.suptitle(f\"{method1_full_name} vs. {method2_full_name}\")\n",
    "\n",
    "    title = f\"MAE vs. # of Heavy Atoms\"\n",
    "    group.set_index(\"Heavy Atoms\")[[\"MAE\", \"RMSE(E/nh)\"]].plot(title=title, ax=ax[0])\n",
    "\n",
    "    group = rmse_df_natoms_groupby.get_group((method1, method2))\n",
    "    title = f\"MAE vs. # of Atoms\"\n",
    "    group.set_index(\"Atoms\").sort_index()[[\"MAE\", \"RMSE(E/n)\"]].plot(\n",
    "        title=title, ax=ax[1]\n",
    "    )\n",
    "\n",
    "    # plt.show()\n",
    "    plt.savefig(f\"../without_mae/side_by_side-atoms_heavyatoms-2/{method1}_{method2}.png\", dpi=300)"
   ]
  },
  {
   "cell_type": "markdown",
   "metadata": {},
   "source": [
    "### RMSE(E/n)"
   ]
  },
  {
   "cell_type": "code",
   "execution_count": null,
   "metadata": {},
   "outputs": [],
   "source": [
    "rmse_df_natoms_groupby = rmse_natoms.groupby(\"Method Pair\")\n",
    "for (method1, method2), group in rmse_df.groupby(\"Method Pair\"):\n",
    "    method1_full_name = ani1_config[\"target\"][method1]\n",
    "    method2_full_name = ani1_config[\"target\"][method2]\n",
    "\n",
    "    fig, ax = plt.subplots(nrows=1, ncols=2, sharey=True, figsize=(10, 5))\n",
    "    fig.suptitle(f\"{method1_full_name} vs. {method2_full_name}\")\n",
    "\n",
    "    title = f\"RMSE vs. # of Heavy Atoms\"\n",
    "    group.set_index(\"Heavy Atoms\")[[\"RMSE\", \"RMSE(E/nh)\"]].plot(title=title, ax=ax[0])\n",
    "\n",
    "    group = rmse_df_natoms_groupby.get_group((method1, method2))\n",
    "    title = f\"RMSE vs. # of Atoms\"\n",
    "    group.set_index(\"Atoms\").sort_index()[[\"RMSE\", \"RMSE(E/n)\"]].plot(\n",
    "        title=title, ax=ax[1]\n",
    "    )\n",
    "    \n",
    "    ax[0].set_ylim(0, 20)\n",
    "\n",
    "    # plt.savefig(f\"../without_mae/side_by_side-atoms_heavyatoms-2/{method1}_{method2}.png\", dpi=300)\n",
    "    plt.show(); break"
   ]
  },
  {
   "cell_type": "markdown",
   "metadata": {},
   "source": [
    "### RMSE(E) / n"
   ]
  },
  {
   "cell_type": "code",
   "execution_count": null,
   "metadata": {},
   "outputs": [],
   "source": [
    "rmse_df_natoms_groupby = rmse_natoms.groupby(\"Method Pair\")\n",
    "for (method1, method2), group in rmse_df.groupby(\"Method Pair\"):\n",
    "    method1_full_name = ani1_config[\"target\"][method1]\n",
    "    method2_full_name = ani1_config[\"target\"][method2]\n",
    "\n",
    "    fig, ax = plt.subplots(nrows=1, ncols=2, sharey=True, figsize=(10, 5))\n",
    "    fig.suptitle(f\"{method1_full_name} vs. {method2_full_name}\")\n",
    "\n",
    "    title = f\"RMSE vs. # of Heavy Atoms\"\n",
    "    group.set_index(\"Heavy Atoms\")[[\"RMSE\", \"RMSE / sqrt(nh)\"]].plot(title=title, ax=ax[0])\n",
    "\n",
    "    group = rmse_df_natoms_groupby.get_group((method1, method2))\n",
    "    title = f\"RMSE vs. # of Atoms\"\n",
    "    group.set_index(\"Atoms\").sort_index()[[\"RMSE\", \"RMSE / sqrt(n_atoms)\"]].plot(\n",
    "        title=title, ax=ax[1]\n",
    "    )\n",
    "    ax[0].set_ylim(0, 20)\n",
    "\n",
    "    # plt.savefig(f\"../without_mae/side_by_side-atoms_heavyatoms/{method1}_{method2}.png\", dpi=300); plt.show()\n",
    "    plt.show(); break"
   ]
  },
  {
   "cell_type": "markdown",
   "metadata": {},
   "source": [
    "# Bond Counting Example"
   ]
  },
  {
   "cell_type": "code",
   "execution_count": null,
   "metadata": {},
   "outputs": [],
   "source": [
    "molecule = molecules[100622]\n",
    "molecule[\"name\"], molecule[\"iconfig\"], molecule[\"atomic_numbers\"]"
   ]
  },
  {
   "cell_type": "code",
   "execution_count": null,
   "metadata": {},
   "outputs": [],
   "source": [
    "from scipy.spatial.distance import cdist\n",
    "import numpy as np\n",
    "\n",
    "atom_types = {1: 'H', 6: 'C', 7: 'N', 8: 'O'}\n",
    "\n",
    "ATOM_PAIR_TO_BOND_ANGSTROM = {\n",
    "    frozenset([1, 6]): (0.95, 1.70),\n",
    "    frozenset([1, 7]): (0.95, 1.50),\n",
    "    frozenset([1, 8]): (0.90, 1.50),\n",
    "    frozenset([6, 6]): (1.00, 1.90),\n",
    "    frozenset([6, 7]): (1.10, 1.80),\n",
    "    frozenset([6, 8]): (1.10, 1.75),\n",
    "}\n",
    "\n",
    "def bonds_from_coordinates(coordinates, atomic_numbers):\n",
    "    pairwise_distance = cdist(coordinates, coordinates)\n",
    "\n",
    "    bonds = []\n",
    "    # Loop through combinations of atoms in the molecule\n",
    "    # Only need to look at one half of the (symmetric) pairwise distance matrix\n",
    "    # And we don't care about the diagonal either\n",
    "    for i, j in zip(*np.triu_indices_from(pairwise_distance, k=1)):\n",
    "        atom_atom_distance = pairwise_distance[i, j]\n",
    "        atomic_number_pair = frozenset([atomic_numbers[i], atomic_numbers[j]])\n",
    "        bond_length_min_max = ATOM_PAIR_TO_BOND_ANGSTROM.get(atomic_number_pair)\n",
    "\n",
    "        # If we have the current atom-atom pair in the bond length lookup table, \n",
    "        # check if the distance is within the allowed range\n",
    "        if bond_length_min_max is not None:\n",
    "            bond_length_min, bond_length_max = bond_length_min_max\n",
    "            if bond_length_min < atom_atom_distance < bond_length_max:\n",
    "                bonds.append((i, j))\n",
    "\n",
    "    return bonds"
   ]
  },
  {
   "cell_type": "code",
   "execution_count": null,
   "metadata": {
    "scrolled": true
   },
   "outputs": [],
   "source": [
    "from math import dist\n",
    "\n",
    "atomic_numbers = molecule[\"atomic_numbers\"]\n",
    "coordinates = molecule[\"coordinates\"]\n",
    "\n",
    "bonds = bonds_from_coordinates(coordinates, atomic_numbers)\n",
    "\n",
    "bond_numbers = [(atomic_numbers[b[0]], atomic_numbers[b[1]]) for b in bonds]\n",
    "bond_symbols = [(atom_types[n[0]], atom_types[n[1]]) for n in bond_numbers]\n",
    "bond_distances = [dist(coordinates[b[0]], coordinates[b[1]]) for b in bonds]\n",
    "\n",
    "pd.DataFrame({\"Atom Indices\": bonds, \"Atomic Numbers\": bond_numbers, \"Bond Symbols\": bond_symbols, \"Bond Distance\": bond_distances})"
   ]
  },
  {
   "cell_type": "code",
   "execution_count": null,
   "metadata": {},
   "outputs": [],
   "source": [
    "from rdkit import Chem"
   ]
  },
  {
   "cell_type": "code",
   "execution_count": null,
   "metadata": {},
   "outputs": [],
   "source": [
    "# N-(diaminomethylidene)acetamide -- Canonical SMILES\n",
    "m = Chem.MolFromSmiles('CC(=O)N=C(N)N')\n",
    "m"
   ]
  },
  {
   "cell_type": "code",
   "execution_count": null,
   "metadata": {},
   "outputs": [],
   "source": [
    "for bond in m.GetBonds():\n",
    "    print(f\"{bond.GetBeginAtom().GetSymbol()}-{bond.GetEndAtom().GetSymbol()} {bond.GetBondType()} bond\")"
   ]
  },
  {
   "cell_type": "markdown",
   "metadata": {},
   "source": [
    "Our bond detection seemed to have missed the C-C bond.\n",
    "\n",
    "We should expect one of the carbon atom pairs in the distance matrix to have a pairwise distance roughly between 1.2 and 1.54. However, the distances between the carbon atoms are 2.44 and 2.49 from the ANI-1 data (see the first few entries in the table below)."
   ]
  },
  {
   "cell_type": "code",
   "execution_count": null,
   "metadata": {},
   "outputs": [],
   "source": [
    "# Printing the distance matrix\n",
    "print(\"Atomic #:\", \"     \".join([str(x) for x in molecule[\"atomic_numbers\"]]))\n",
    "for row in cdist(molecule[\"coordinates\"], molecule[\"coordinates\"]):\n",
    "    print(\"         \", \"  \".join([f\"{x:.2f}\"for x in row]))"
   ]
  },
  {
   "cell_type": "code",
   "execution_count": null,
   "metadata": {},
   "outputs": [],
   "source": []
  },
  {
   "cell_type": "code",
   "execution_count": null,
   "metadata": {},
   "outputs": [],
   "source": []
  }
 ],
 "metadata": {
  "kernelspec": {
   "display_name": "Python 3 (ipykernel)",
   "language": "python",
   "name": "python3"
  },
  "language_info": {
   "codemirror_mode": {
    "name": "ipython",
    "version": 3
   },
   "file_extension": ".py",
   "mimetype": "text/x-python",
   "name": "python",
   "nbconvert_exporter": "python",
   "pygments_lexer": "ipython3",
   "version": "3.9.7"
  },
  "vscode": {
   "interpreter": {
    "hash": "62ae6d7abc95162d91b166f01ed1c13496d252cc2585d7024367fa3a8d301506"
   }
  }
 },
 "nbformat": 4,
 "nbformat_minor": 2
}
