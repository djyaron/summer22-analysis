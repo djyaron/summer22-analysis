{
 "cells": [
  {
   "cell_type": "code",
   "execution_count": null,
   "outputs": [],
   "source": [
    "from starter_code import (\n",
    "    ani1_config,\n",
    "    load_ani1_data,\n",
    "    calc_resid,\n",
    "    create_heatmap,\n",
    "    create_boxplot,\n",
    "    filter_outliers,\n",
    "    create_histogram,\n",
    "    num_heavy_atoms\n",
    ")"
   ],
   "metadata": {
    "collapsed": false,
    "pycharm": {
     "name": "#%%\n"
    }
   }
  },
  {
   "cell_type": "markdown",
   "source": [
    "## Load ANI-1 Data"
   ],
   "metadata": {
    "collapsed": false,
    "pycharm": {
     "name": "#%% md\n"
    }
   }
  },
  {
   "cell_type": "code",
   "execution_count": null,
   "outputs": [],
   "source": [
    "molecules = load_ani1_data()\n",
    "# Calculate the residual vector for each method-method combination\n",
    "resid = calc_resid(molecules)\n",
    "# Resid but as a Dataframe\n",
    "resid_df = calc_resid(molecules, as_dataframe=True)"
   ],
   "metadata": {
    "collapsed": false,
    "pycharm": {
     "name": "#%%\n"
    }
   }
  },
  {
   "cell_type": "code",
   "execution_count": null,
   "outputs": [],
   "source": [
    "# Filtering Data\n",
    "filtered_data = filter_outliers(data_matrix=resid)\n",
    "# filtered_data = filter_outliers(dataframe=resid_df)"
   ],
   "metadata": {
    "collapsed": false,
    "pycharm": {
     "name": "#%%\n"
    }
   }
  },
  {
   "cell_type": "markdown",
   "source": [
    "### MAE Heatmaps\n",
    "\n",
    "Here we plot the MAE between quantum chemical methods in a heatmap."
   ],
   "metadata": {
    "collapsed": false,
    "pycharm": {
     "name": "#%% md\n"
    }
   }
  },
  {
   "cell_type": "code",
   "execution_count": null,
   "outputs": [],
   "source": [
    "import seaborn as sns\n",
    "# Create a heatmap of the MAE between methods\n",
    "#heatmap_fmt = {\"annot_kws\": {'size': 16}}\n",
    "create_heatmap(ani1_config[\"target\"], \"MAE between methods [Original Data]\", data_matrix=resid, show_progress=True)\n",
    "# Heatmap with filtered data\n",
    "create_heatmap(\n",
    "        ani1_config[\"target\"],\n",
    "        \"MAE between methods [FILTERED Data]\",\n",
    "        data_matrix=filtered_data,\n",
    "        show_progress=True\n",
    "    )"
   ],
   "metadata": {
    "collapsed": false,
    "pycharm": {
     "name": "#%%\n"
    }
   }
  },
  {
   "cell_type": "markdown",
   "source": [
    "# Outlier Exploration\n",
    "## Data Spread"
   ],
   "metadata": {
    "collapsed": false,
    "pycharm": {
     "name": "#%% md\n"
    }
   }
  },
  {
   "cell_type": "code",
   "execution_count": null,
   "outputs": [],
   "source": [
    "# Original data boxplot\n",
    "create_boxplot(resid, \"Original Data Spread\", method=\"dt\")\n",
    "# Filtered data boxplot\n",
    "create_boxplot(filtered_data, \"Filtered Data Spread\", \"dt\")"
   ],
   "metadata": {
    "collapsed": false,
    "pycharm": {
     "name": "#%%\n"
    }
   }
  },
  {
   "cell_type": "markdown",
   "source": [
    "## Heatmap of Number of Outliers\n",
    "\n",
    "We concluded that using IQRs were too aggressive, so used 20 SDs instead."
   ],
   "metadata": {
    "collapsed": false,
    "pycharm": {
     "name": "#%% md\n"
    }
   }
  },
  {
   "cell_type": "code",
   "execution_count": null,
   "outputs": [],
   "source": [
    "# Get number of outliers\n",
    "n_outliers = {}\n",
    "for (target_1, target_2) in resid:\n",
    "    # Dictionary\n",
    "    n_outliers[target_1, target_2] = len(resid[target_1, target_2]) - len(filtered_data[target_1, target_2])\n",
    "    # Dataframes\n",
    "    # n_outliers[target_1, target_2] = resid_df[target_1, target_2].size - original_data[target_1, target_2].size\n",
    "    # Difference in the number of outliers\n",
    "    # n_outliers[target_1, target_2] = original_data[target_1, target_2] - df[target_1, target_2]\n",
    "# Plot\n",
    "create_heatmap(\n",
    "    ani1_config[\"target\"],\n",
    "    \"Number of outliers for each method-method combo\",\n",
    "    data_matrix=n_outliers,\n",
    "    show_progress=True\n",
    ")\n",
    "# okay to use create_heatmap since mean of 1 number is just the number"
   ],
   "metadata": {
    "collapsed": false,
    "pycharm": {
     "name": "#%%\n"
    }
   }
  },
  {
   "cell_type": "markdown",
   "source": [
    "## Histograms for Outlier Molecule Frequency\n",
    "In this section, we're interested to see if there are particular molecules that tend to be outliers more frequently than others.\n",
    "\n",
    "To do this, we generate a histogram of the frequency at which a molecule appears as an outlier for a method-method pair."
   ],
   "metadata": {
    "collapsed": false,
    "pycharm": {
     "name": "#%% md\n"
    }
   }
  },
  {
   "cell_type": "code",
   "execution_count": null,
   "outputs": [],
   "source": [
    "data = filter_outliers(dataframe=resid_df).groupby(level=[0]).sum()\n",
    "for index in data.index:\n",
    "    nh = num_heavy_atoms(index)\n",
    "    data.loc[str(index)] = data.loc[str(index)] / nh\n",
    "\n",
    "# Optionally order the molecules by the mean of the outlier count for each method-method pair\n",
    "data = data.loc[data.mean(axis=\"columns\").sort_values(ascending=False).index, :]"
   ],
   "metadata": {
    "collapsed": false,
    "pycharm": {
     "name": "#%%\n"
    }
   }
  },
  {
   "cell_type": "code",
   "execution_count": null,
   "outputs": [],
   "source": [
    "create_histogram(data.iloc[0:10]) # y axis is # of methods while x-axis is MAE"
   ],
   "metadata": {
    "collapsed": false,
    "pycharm": {
     "name": "#%%\n"
    }
   }
  },
  {
   "cell_type": "code",
   "execution_count": null,
   "outputs": [],
   "source": [
    "create_histogram(data.iloc[-10:-1])"
   ],
   "metadata": {
    "collapsed": false,
    "pycharm": {
     "name": "#%%\n"
    }
   }
  },
  {
   "cell_type": "markdown",
   "source": [
    "Plot histograms of the percentage of molecular configurations which are outliers"
   ],
   "metadata": {
    "collapsed": false,
    "pycharm": {
     "name": "#%% md\n"
    }
   }
  },
  {
   "cell_type": "code",
   "execution_count": null,
   "outputs": [],
   "source": [
    "data = filter_outliers(dataframe=resid_df).groupby(level=[0]).mean()\n",
    "\n",
    "# Optionally order the molecules by the mean of the outlier proportion for each method-method pair\n",
    "data = data.loc[data.mean(axis=\"columns\").sort_values(ascending=False).index, :]"
   ],
   "metadata": {
    "collapsed": false,
    "pycharm": {
     "name": "#%%\n"
    }
   }
  },
  {
   "cell_type": "code",
   "execution_count": null,
   "outputs": [],
   "source": [
    "create_histogram(data.iloc[0:10])"
   ],
   "metadata": {
    "collapsed": false,
    "pycharm": {
     "name": "#%%\n"
    }
   }
  },
  {
   "cell_type": "code",
   "execution_count": null,
   "outputs": [],
   "source": [
    "create_histogram(data.iloc[-10:-1])"
   ],
   "metadata": {
    "collapsed": false,
    "pycharm": {
     "name": "#%%\n"
    }
   }
  },
  {
   "cell_type": "markdown",
   "source": [
    "# Correcting for the Number of Heavy Atoms\n",
    "\n",
    "This did not yield anything interesting or significant."
   ],
   "metadata": {
    "collapsed": false,
    "pycharm": {
     "name": "#%% md\n"
    }
   }
  },
  {
   "cell_type": "code",
   "execution_count": null,
   "outputs": [],
   "source": [
    "# add number of heavy atoms as a column ('nh')\n",
    "nh_column = []\n",
    "for index in resid_df.index:\n",
    "    nh = num_heavy_atoms(str(index))\n",
    "    nh_column.append(nh)\n",
    "\n",
    "resid_df['nh'] = nh_column\n",
    "data = resid_df.sort_values(by=['nh'])\n",
    "print(data)\n",
    "original_data = filter_outliers(dataframe=resid_df).groupby(level=[0]).sum()\n",
    "print(original_data)"
   ],
   "metadata": {
    "collapsed": false,
    "pycharm": {
     "name": "#%%\n"
    }
   }
  },
  {
   "cell_type": "code",
   "execution_count": null,
   "outputs": [],
   "source": [
    "import pandas as pd\n",
    "df = pd.DataFrame()\n",
    "n_sd = 20\n",
    "for i in range(data['nh'].max()):\n",
    "    nh_data = data.loc[data['nh'] == (i+1)] / (i+1) # divide by number of heavy atoms\n",
    "    print(nh_data)\n",
    "    upper_bound = nh_data.mean() + n_sd * nh_data.std()\n",
    "    lower_bound = nh_data.mean() - n_sd * nh_data.std()\n",
    "    nh_data = (nh_data < upper_bound) & (nh_data > lower_bound)\n",
    "    print(nh_data)\n",
    "    df = pd.concat([df, nh_data])\n",
    "\n",
    "df = df.drop(['nh'], axis=1)\n",
    "print(df.groupby(level=[0]).sum())"
   ],
   "metadata": {
    "collapsed": false,
    "pycharm": {
     "name": "#%%\n"
    }
   }
  }
 ],
 "metadata": {
  "kernelspec": {
   "display_name": "Python 3 (ipykernel)",
   "language": "python",
   "name": "python3"
  },
  "language_info": {
   "codemirror_mode": {
    "name": "ipython",
    "version": 3
   },
   "file_extension": ".py",
   "mimetype": "text/x-python",
   "name": "python",
   "nbconvert_exporter": "python",
   "pygments_lexer": "ipython3",
   "version": "3.9.13"
  },
  "vscode": {
   "interpreter": {
    "hash": "62ae6d7abc95162d91b166f01ed1c13496d252cc2585d7024367fa3a8d301506"
   }
  }
 },
 "nbformat": 4,
 "nbformat_minor": 2
}